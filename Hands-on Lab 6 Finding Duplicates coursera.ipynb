{
 "cells": [
  {
   "cell_type": "code",
   "execution_count": 1,
   "id": "617a3016",
   "metadata": {},
   "outputs": [],
   "source": [
    "import pandas as pd\n",
    "import numpy as np"
   ]
  },
  {
   "cell_type": "code",
   "execution_count": 2,
   "id": "b724207b",
   "metadata": {},
   "outputs": [],
   "source": [
    "df = pd.read_csv(r\"C:\\Users\\Nitu Kumar\\Downloads\\Data Set Assignment\\m1_survey_data.csv\")"
   ]
  },
  {
   "cell_type": "code",
   "execution_count": 3,
   "id": "9116be8d",
   "metadata": {},
   "outputs": [
    {
     "name": "stdout",
     "output_type": "stream",
     "text": [
      "There are 154 duplicate rows.\n",
      "There are 154 duplicate Respondants.\n"
     ]
    }
   ],
   "source": [
    "#Find how many duplicate rows exist in the dataframe.\n",
    "print('There are', df.duplicated().sum(), 'duplicate rows.')\n",
    "print('There are', df.duplicated('Respondent').sum(), 'duplicate Respondants.')"
   ]
  },
  {
   "cell_type": "code",
   "execution_count": 4,
   "id": "121c6808",
   "metadata": {},
   "outputs": [
    {
     "data": {
      "text/plain": [
       "(11398, 85)"
      ]
     },
     "execution_count": 4,
     "metadata": {},
     "output_type": "execute_result"
    }
   ],
   "source": [
    "#Remove the duplicate rows from the dataframe.\n",
    "df.drop_duplicates(inplace=True)\n",
    "df.shape"
   ]
  },
  {
   "cell_type": "code",
   "execution_count": 5,
   "id": "30cca0f2",
   "metadata": {},
   "outputs": [
    {
     "name": "stdout",
     "output_type": "stream",
     "text": [
      "There are now 0 duplicate rows.\n",
      "There are 0 duplicate Respondants.\n"
     ]
    }
   ],
   "source": [
    "#Verify if duplicates were actually dropped.\n",
    "print('There are now', df.duplicated().sum(), 'duplicate rows.')\n",
    "print('There are', df.duplicated('Respondent').sum(), 'duplicate Respondants.')"
   ]
  },
  {
   "cell_type": "code",
   "execution_count": 6,
   "id": "c0e281da",
   "metadata": {},
   "outputs": [
    {
     "name": "stdout",
     "output_type": "stream",
     "text": [
      "Respondent                   0\n",
      "MainBranch                   0\n",
      "Hobbyist                     0\n",
      "OpenSourcer                  0\n",
      "OpenSource                  81\n",
      "Employment                   0\n",
      "Country                      0\n",
      "Student                     51\n",
      "EdLevel                    112\n",
      "UndergradMajor             737\n",
      "EduOther                   164\n",
      "OrgSize                     96\n",
      "DevType                     65\n",
      "YearsCode                    9\n",
      "Age1stCode                  13\n",
      "YearsCodePro                16\n",
      "CareerSat                    0\n",
      "JobSat                       1\n",
      "MgrIdiot                   493\n",
      "MgrMoney                   497\n",
      "MgrWant                    493\n",
      "JobSeek                      0\n",
      "LastHireDate                 0\n",
      "LastInt                    413\n",
      "FizzBuzz                    37\n",
      "JobFactors                   3\n",
      "ResumeUpdate                39\n",
      "CurrencySymbol               0\n",
      "CurrencyDesc                 0\n",
      "CompTotal                  809\n",
      "CompFreq                   206\n",
      "ConvertedComp              816\n",
      "WorkWeekHrs                122\n",
      "WorkPlan                   121\n",
      "WorkChallenge              164\n",
      "WorkRemote                   8\n",
      "WorkLoc                     32\n",
      "ImpSyn                       5\n",
      "CodeRev                      1\n",
      "CodeRevHrs                2426\n",
      "UnitTests                   29\n",
      "PurchaseHow                196\n",
      "PurchaseWhat                38\n",
      "LanguageWorkedWith          11\n",
      "LanguageDesireNextYear     134\n",
      "DatabaseWorkedWith         453\n",
      "DatabaseDesireNextYear    1042\n",
      "PlatformWorkedWith         411\n",
      "PlatformDesireNextYear     544\n",
      "WebFrameWorkedWith        1393\n",
      "WebFrameDesireNextYear    1617\n",
      "MiscTechWorkedWith        2182\n",
      "MiscTechDesireNextYear    1455\n",
      "DevEnviron                  29\n",
      "OpSys                       34\n",
      "Containers                  82\n",
      "BlockchainOrg             2322\n",
      "BlockchainIs              2610\n",
      "BetterLife                  98\n",
      "ITperson                    35\n",
      "OffOn                       38\n",
      "SocialMedia                293\n",
      "Extraversion                20\n",
      "ScreenName                 507\n",
      "SOVisit1st                 325\n",
      "SOVisitFreq                  5\n",
      "SOVisitTo                    1\n",
      "SOFindAnswer                 3\n",
      "SOTimeSaved                 50\n",
      "SOHowMuchTime             1917\n",
      "SOAccount                    1\n",
      "SOPartFreq                1128\n",
      "SOJobs                       6\n",
      "EntTeams                     5\n",
      "SOComm                       0\n",
      "WelcomeChange               85\n",
      "SONewContent              1965\n",
      "Age                        287\n",
      "Gender                      73\n",
      "Trans                      123\n",
      "Sexuality                  542\n",
      "Ethnicity                  675\n",
      "Dependents                 140\n",
      "SurveyLength                19\n",
      "SurveyEase                  14\n",
      "dtype: int64\n"
     ]
    }
   ],
   "source": [
    "#Find the missing values for all columns.\n",
    "with pd.option_context('display.max_rows', None, 'display.max_columns', None):\n",
    "    print(df.isnull().sum())"
   ]
  },
  {
   "cell_type": "code",
   "execution_count": 7,
   "id": "81b1c6dc",
   "metadata": {},
   "outputs": [
    {
     "name": "stdout",
     "output_type": "stream",
     "text": [
      "There are 32 missing values in the column 'WorkLoc'\n",
      "There are 112 missing values in the column 'EdLevel'\n",
      "There are 0 missing values in the column 'Country'\n"
     ]
    }
   ],
   "source": [
    "#Find out how many rows are missing in the column 'WorkLoc'\n",
    "print(\"There are\", df['WorkLoc'].isnull().sum(), \"missing values in the column 'WorkLoc'\")\n",
    "print(\"There are\", df['EdLevel'].isnull().sum(), \"missing values in the column 'EdLevel'\")\n",
    "print(\"There are\", df['Country'].isnull().sum(), \"missing values in the column 'Country'\")"
   ]
  },
  {
   "cell_type": "code",
   "execution_count": 8,
   "id": "3bfa70b8",
   "metadata": {},
   "outputs": [
    {
     "name": "stdout",
     "output_type": "stream",
     "text": [
      "131596.7316197316\n",
      "57745.0\n"
     ]
    }
   ],
   "source": [
    "#Identify the value that is most frequent (majority) in the WorkLoc column.\n",
    "print(df['ConvertedComp'].mean())\n",
    "print(df['ConvertedComp'].median())"
   ]
  },
  {
   "cell_type": "code",
   "execution_count": 9,
   "id": "896fc553",
   "metadata": {},
   "outputs": [
    {
     "name": "stdout",
     "output_type": "stream",
     "text": [
      "There are 3 unique Work Locations in the survey:\n",
      "\n",
      "WorkLoc                                    value count\n",
      "-------                                    -----------\n",
      "Office                                            6806\n",
      "Home                                              3589\n",
      "Other place, such as a coworking space or cafe     971\n",
      "Name: WorkLoc, dtype: int64\n",
      "\n",
      "\n",
      "There are 2 unique Employment values in the survey:\n",
      "\n",
      "Employment        value count\n",
      "----------        -----------\n",
      "Employed full-time    10968\n",
      "Employed part-time      430\n",
      "Name: Employment, dtype: int64\n",
      "\n",
      "\n",
      "There are 12 unique UndergradMajor values in the survey:\n",
      "\n",
      "UndergradMajor        value count\n",
      "---------------        -----------\n",
      "Computer science, computer engineering, or software engineering          6953\n",
      "Information systems, information technology, or system administration     794\n",
      "Another engineering discipline (ex. civil, electrical, mechanical)        759\n",
      "Web development or web design                                             410\n",
      "A natural science (ex. biology, chemistry, physics)                       403\n",
      "Mathematics or statistics                                                 372\n",
      "A business discipline (ex. accounting, finance, marketing)                244\n",
      "A social science (ex. anthropology, psychology, political science)        210\n",
      "A humanities discipline (ex. literature, history, philosophy)             207\n",
      "Fine arts or performing arts (ex. graphic design, music, studio art)      161\n",
      "I never declared a major                                                  124\n",
      "A health science (ex. nursing, pharmacy, radiology)                        24\n",
      "Name: UndergradMajor, dtype: int64\n"
     ]
    }
   ],
   "source": [
    "#Find the value counts for the column WorkLoc.\n",
    "print('There are', df['WorkLoc'].nunique(), 'unique Work Locations in the survey:')\n",
    "\n",
    "print('\\nWorkLoc                                    value count')      \n",
    "print('-------                                    -----------')\n",
    "print(df['WorkLoc'].value_counts())\n",
    "\n",
    "print('\\n\\nThere are', df['Employment'].nunique(), 'unique Employment values in the survey:')\n",
    "\n",
    "print('\\nEmployment        value count')      \n",
    "print('----------        -----------')\n",
    "print(df['Employment'].value_counts())\n",
    "\n",
    "print('\\n\\nThere are', df['UndergradMajor'].nunique(), 'unique UndergradMajor values in the survey:')\n",
    "\n",
    "print('\\nUndergradMajor        value count')      \n",
    "print('---------------        -----------')\n",
    "print(df['UndergradMajor'].value_counts())"
   ]
  },
  {
   "cell_type": "code",
   "execution_count": 10,
   "id": "2d4b47da",
   "metadata": {},
   "outputs": [
    {
     "name": "stdout",
     "output_type": "stream",
     "text": [
      "\n",
      "Value counts for missing data in WorkLoc:\n",
      "\n",
      "False    11366\n",
      "True        32\n",
      "Name: WorkLoc, dtype: int64\n",
      "\n",
      "Here are the first 10 rows missing values for WorkLoc:\n",
      "      Respondent WorkLoc\n",
      "130          285     NaN\n",
      "242          550     NaN\n",
      "866         1847     NaN\n",
      "1455        2826     NaN\n",
      "1753        3536     NaN\n",
      "2339        4768     NaN\n",
      "2689        5562     NaN\n",
      "2788        5769     NaN\n",
      "3165        6613     NaN\n",
      "3213        6721     NaN\n"
     ]
    }
   ],
   "source": [
    "#Impute (replace) all the empty rows in the column WorkLoc with the value that you have identified as majority.\n",
    "\n",
    "# your code goes here\n",
    "import numpy as np\n",
    "\n",
    "workloc_highest = 'Office'\n",
    "\n",
    "missing_data = df.isnull()\n",
    "#print(missing_data.head(5))\n",
    "\n",
    "print('\\nValue counts for missing data in WorkLoc:\\n')\n",
    "print( missing_data['WorkLoc'].value_counts())\n",
    "\n",
    "\n",
    "print('\\nHere are the first 10 rows missing values for WorkLoc:')\n",
    "print(df[missing_data['WorkLoc']][['Respondent','WorkLoc']].head(10))\n",
    "\n",
    "df['WorkLoc'].replace(np.nan, workloc_highest, inplace=True)"
   ]
  },
  {
   "cell_type": "code",
   "execution_count": 11,
   "id": "be551200",
   "metadata": {},
   "outputs": [
    {
     "name": "stdout",
     "output_type": "stream",
     "text": [
      "\n",
      "New value counts for missing data in WorkLoc:\n",
      "\n",
      "False    11366\n",
      "True        32\n",
      "Name: WorkLoc, dtype: int64\n"
     ]
    }
   ],
   "source": [
    "#After imputation there should ideally not be any empty rows in the WorkLoc column.\n",
    "#Verify if imputing was successful.\n",
    "print('\\nNew value counts for missing data in WorkLoc:\\n')\n",
    "print(missing_data['WorkLoc'].value_counts())\n",
    "# No 'True' values means that we have eliminated all empty WorkLoc values."
   ]
  },
  {
   "cell_type": "code",
   "execution_count": 12,
   "id": "34a2263c",
   "metadata": {},
   "outputs": [
    {
     "name": "stdout",
     "output_type": "stream",
     "text": [
      "Yearly     6073\n",
      "Monthly    4788\n",
      "Weekly      331\n",
      "Name: CompFreq, dtype: int64\n"
     ]
    }
   ],
   "source": [
    "#Normalizing the data\n",
    "#List out the various categories in the column 'CompFreq'\n",
    "print(df['CompFreq'].value_counts())"
   ]
  },
  {
   "cell_type": "code",
   "execution_count": 13,
   "id": "fd141be4",
   "metadata": {},
   "outputs": [
    {
     "data": {
      "text/plain": [
       "100000.0"
      ]
     },
     "execution_count": 13,
     "metadata": {},
     "output_type": "execute_result"
    }
   ],
   "source": [
    "#Create a new column named 'NormalizedAnnualCompensation'. Use the hint given below if needed.\n",
    "df.loc[df['CompFreq'] == 'Yearly', 'NormalizedAnnualCompensation']  = 1  * df['CompTotal']\n",
    "df.loc[df['CompFreq'] == 'Monthly', 'NormalizedAnnualCompensation'] = 12 * df['CompTotal']\n",
    "df.loc[df['CompFreq'] == 'Weekly', 'NormalizedAnnualCompensation']  = 52 * df['CompTotal']\n",
    "\n",
    "\n",
    "df[['CompTotal','CompFreq','NormalizedAnnualCompensation']].head(20)\n",
    "\n",
    "df['NormalizedAnnualCompensation'].median()"
   ]
  },
  {
   "cell_type": "code",
   "execution_count": null,
   "id": "fe095dcf",
   "metadata": {},
   "outputs": [],
   "source": []
  }
 ],
 "metadata": {
  "kernelspec": {
   "display_name": "Python 3 (ipykernel)",
   "language": "python",
   "name": "python3"
  },
  "language_info": {
   "codemirror_mode": {
    "name": "ipython",
    "version": 3
   },
   "file_extension": ".py",
   "mimetype": "text/x-python",
   "name": "python",
   "nbconvert_exporter": "python",
   "pygments_lexer": "ipython3",
   "version": "3.11.4"
  }
 },
 "nbformat": 4,
 "nbformat_minor": 5
}
